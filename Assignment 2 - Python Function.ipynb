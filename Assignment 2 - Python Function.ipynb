{
 "cells": [
  {
   "cell_type": "markdown",
   "metadata": {},
   "source": [
    "## Problem Statement"
   ]
  },
  {
   "cell_type": "markdown",
   "metadata": {},
   "source": [
    "Q.1 Write a Python Program to implement your own myreduce() function which works exactly like\n",
    "Python's built-in function reduce()\n"
   ]
  },
  {
   "cell_type": "code",
   "execution_count": 6,
   "metadata": {},
   "outputs": [
    {
     "name": "stdout",
     "output_type": "stream",
     "text": [
      "10\n"
     ]
    }
   ],
   "source": [
    "def reduceFunc(implementationMethod,inputValues):\n",
    "    result=inputValues[0]\n",
    "    for i in inputValues[1:]:\n",
    "        result = implementationMethod(result,i)\n",
    "    return result\n",
    "def add(x,y):\n",
    "    return x+y\n",
    "reducedValue = reduceFunc(add,range(1,5))\n",
    "print(reducedValue)"
   ]
  },
  {
   "cell_type": "markdown",
   "metadata": {},
   "source": [
    "Q.2 Write a Python program to implement your own myfilter() function which works exactly like\n",
    "Python's built-in function filter()"
   ]
  },
  {
   "cell_type": "code",
   "execution_count": 41,
   "metadata": {},
   "outputs": [
    {
     "name": "stdout",
     "output_type": "stream",
     "text": [
      "['a', 'e']\n"
     ]
    }
   ],
   "source": [
    "def myFilter(function,sequence):\n",
    "    validList=[]\n",
    "    for x in sequence:\n",
    "        if function(x) is True:\n",
    "            validList.append(x)\n",
    "    return validList\n",
    "def vowelss(char):\n",
    "    char=char.lower()\n",
    "    if char in \"aeiou\":\n",
    "        return True\n",
    "    else:\n",
    "        return False\n",
    "\n",
    "filteredList=myFilter(vowelss,['a','e','m','l'])\n",
    "print(filteredList)"
   ]
  },
  {
   "cell_type": "markdown",
   "metadata": {},
   "source": [
    "Q.3 Implement List comprehensions to produce the following lists.\n",
    "   Write List comprehensions to produce the following Lists\n",
    "   \n",
    "    ['A', 'C', 'A', 'D', 'G', 'I', ’L’, ‘ D’]\n",
    "   \n",
    "    ['x', 'xx', 'xxx', 'xxxx', 'y', 'yy', 'yyy', 'yyyy', 'z', 'zz', 'zzz', 'zzzz']\n",
    "\n",
    "    ['x', 'y', 'z', 'xx', 'yy', 'zz', 'xx', 'yy', 'zz', 'xxxx', 'yyyy', 'zzzz']\n",
    "    \n",
    "    [[2], [3], [4], [3], [4], [5], [4], [5], [6]]\n",
    "\n",
    "    [[2, 3, 4, 5], [3, 4, 5, 6], [4, 5, 6, 7], [5, 6, 7, 8]]\n",
    "\n",
    "    [(1, 1), (2, 1), (3, 1), (1, 2), (2, 2), (3, 2), (1, 3), (2, 3), (3, 3)]"
   ]
  },
  {
   "cell_type": "code",
   "execution_count": 63,
   "metadata": {},
   "outputs": [
    {
     "name": "stdout",
     "output_type": "stream",
     "text": [
      "['A', 'C', 'A', 'D', 'G', 'I', 'L', 'D']\n",
      "['x', 'xx', 'xxx', 'xxxx', 'y', 'yy', 'yyy', 'yyyy', 'z', 'zz', 'zzz', 'zzzz']\n",
      "['x', 'y', 'z', 'xx', 'yy', 'zz', 'xxx', 'yyy', 'zzz', 'xxxx', 'yyyy', 'zzzz']\n",
      "[[2], [3], [4], [3], [4], [5], [4], [5], [6]]\n",
      "[[2, 3, 4, 5], [3, 4, 5, 6], [4, 5, 6, 7], [5, 6, 7, 8]]\n",
      "[(1, 1), (2, 1), (3, 1), (1, 2), (2, 2), (3, 2), (1, 3), (2, 3), (3, 3)]\n"
     ]
    }
   ],
   "source": [
    "wordz = \"ACADGILD\"\n",
    "wordQ3=[char for char in wordz]\n",
    "print(wordQ3)\n",
    "\n",
    "inputList = ['x','y','z']\n",
    "series = [char*x for char in inputList for x in range(1,5) ]\n",
    "print(series)\n",
    "\n",
    "series = [char*x for x in range(1,5) for char in inputList]\n",
    "print(series)\n",
    "\n",
    "inputList=[2,3,4]\n",
    "series = [[num+x] for num in inputList for x in range(0,3)]\n",
    "print(series)\n",
    "\n",
    "inputList=[2,3,4,5]\n",
    "series = [[num+x for num in inputList] for x in range(0,4)]\n",
    "print(series)\n",
    "\n",
    "inputList=[1,2,3]\n",
    "series = [(x,num) for num in inputList for x in inputList]\n",
    "print(series)"
   ]
  },
  {
   "cell_type": "markdown",
   "metadata": {},
   "source": [
    "Q.4 Implement a function longestWord() that takes a list of words and returns the longest one."
   ]
  },
  {
   "cell_type": "code",
   "execution_count": 39,
   "metadata": {},
   "outputs": [
    {
     "name": "stdout",
     "output_type": "stream",
     "text": [
      "sudhanshu\n"
     ]
    }
   ],
   "source": [
    "def longestWord(wordList):\n",
    "    tempSize=0\n",
    "    longWord=\"\"\n",
    "    for word in wordList:\n",
    "        if len(word)>tempSize:\n",
    "            longWord=word\n",
    "            tempSize=len(word)\n",
    "    return longWord\n",
    "words=[\"vijay\",\"sudhanshu\",\"sadasd\"]\n",
    "print(longestWord(words))\n",
    "        "
   ]
  },
  {
   "cell_type": "markdown",
   "metadata": {},
   "source": [
    "Q.5 Write a Python Program(with class concepts) to find the area of the triangle using the below\n",
    "formula.\n",
    "\n",
    "area = (s*(s-a)*(s-b)*(s-c)) ** 0.5\n",
    "\n",
    "Function to take the length of the sides of triangle from user should be defined in the parent\n",
    "class and function to calculate the area should be defined in subclass."
   ]
  },
  {
   "cell_type": "code",
   "execution_count": 51,
   "metadata": {},
   "outputs": [
    {
     "name": "stdout",
     "output_type": "stream",
     "text": [
      "Side 1 : 2\n",
      "Side 2 : 2\n",
      "Side 3 : 2\n",
      "Area of triangle is 1.7320508075688772\n"
     ]
    }
   ],
   "source": [
    "class InputsforTriangle:        \n",
    "    def inputSides(self):\n",
    "        self.a = float(input(\"Side 1 : \"))\n",
    "        self.b = float(input(\"Side 2 : \"))\n",
    "        self.c = float(input(\"Side 3 : \"))\n",
    "        \n",
    "class Area(InputsforTriangle):\n",
    "    def areaTriangle(self):\n",
    "        s = (self.a + self.b + self.c)*0.5\n",
    "        print(\"Area of triangle is\",(s*(s-self.a)*(s-self.b)*(s-self.c))**0.5)\n",
    "\n",
    "t=Area()\n",
    "t.inputSides()\n",
    "t.areaTriangle()"
   ]
  },
  {
   "cell_type": "markdown",
   "metadata": {},
   "source": [
    "Q.6 Write a function filter_long_words() that takes a list of words and an integer n and returns the list\n",
    "of words that are longer than n."
   ]
  },
  {
   "cell_type": "code",
   "execution_count": 33,
   "metadata": {},
   "outputs": [
    {
     "name": "stdout",
     "output_type": "stream",
     "text": [
      "['vijay', 'sudhanshu']\n"
     ]
    }
   ],
   "source": [
    "def filter_long_words(wordList,size):\n",
    "    wordListAboveThreshhold=[]\n",
    "    for word in wordList:\n",
    "        if(len(word)>size):\n",
    "            wordListAboveThreshhold.append(word)\n",
    "    return wordListAboveThreshhold\n",
    "linput=[\"vijay\",\"ajay\",\"sudhanshu\"]\n",
    "lw = filter_long_words(linput,4)\n",
    "print(lw)"
   ]
  },
  {
   "cell_type": "markdown",
   "metadata": {},
   "source": [
    "Q.7 Write a Python program using function concept that maps list of words into a list of integers\n",
    "representing the lengths of the corresponding words.\n",
    "    \n",
    "    Hint: If a list [ ab,cde,erty] is passed on to the python function output should come as [2,3,4]\n",
    "    Here 2,3 and 4 are the lengths of the words in the list."
   ]
  },
  {
   "cell_type": "code",
   "execution_count": 21,
   "metadata": {},
   "outputs": [
    {
     "name": "stdout",
     "output_type": "stream",
     "text": [
      "[3, 2, 2, 5]\n"
     ]
    }
   ],
   "source": [
    "def wordSizeList(wordList):\n",
    "    wordSize=list()\n",
    "    for x in range(len(wordList)):\n",
    "        wordSize.insert(x,len(wordList[x]))\n",
    "    return wordSize\n",
    "l=wordSizeList(['asw',\"df\",\"er\",\"qewqe\"])\n",
    "print(l)\n",
    "\n",
    "        "
   ]
  },
  {
   "cell_type": "markdown",
   "metadata": {},
   "source": [
    "Q.8 Write a Python function which takes a character (i.e. a string of length 1) and returns True if it is\n",
    "a vowel, False otherwise."
   ]
  },
  {
   "cell_type": "code",
   "execution_count": 3,
   "metadata": {},
   "outputs": [
    {
     "name": "stdout",
     "output_type": "stream",
     "text": [
      "Enter the character : f\n",
      "False\n"
     ]
    }
   ],
   "source": [
    "def isVowel(char):\n",
    "    vowels=\"aeiou\"\n",
    "    char=char.lower()\n",
    "    if char in vowels:\n",
    "        return True\n",
    "    else:\n",
    "        return False\n",
    "value = input(\"Enter the character : \")\n",
    "vowell=isVowel(value)\n",
    "print(vowell)"
   ]
  },
  {
   "cell_type": "markdown",
   "metadata": {},
   "source": [
    "## Great job!"
   ]
  }
 ],
 "metadata": {
  "kernelspec": {
   "display_name": "Python 3",
   "language": "python",
   "name": "python3"
  },
  "language_info": {
   "codemirror_mode": {
    "name": "ipython",
    "version": 3
   },
   "file_extension": ".py",
   "mimetype": "text/x-python",
   "name": "python",
   "nbconvert_exporter": "python",
   "pygments_lexer": "ipython3",
   "version": "3.7.4"
  }
 },
 "nbformat": 4,
 "nbformat_minor": 2
}
