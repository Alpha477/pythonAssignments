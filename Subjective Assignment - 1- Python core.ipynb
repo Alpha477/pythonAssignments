{
 "cells": [
  {
   "cell_type": "markdown",
   "metadata": {},
   "source": [
    "Q1. Write a Python program to get the string from the given string where\n",
    "all the occurrence of its first char has been changed to '$,' except first\n",
    "char itself?\n",
    "\n",
    "    Sample String: 'prospect'\n",
    "    Expected Result : 'pros$ect'\n"
   ]
  },
  {
   "cell_type": "code",
   "execution_count": 8,
   "metadata": {},
   "outputs": [
    {
     "data": {
      "text/plain": [
       "'vijay$asd$$'"
      ]
     },
     "execution_count": 8,
     "metadata": {},
     "output_type": "execute_result"
    }
   ],
   "source": [
    "a=\"vijayvasdVV\"\n",
    "b=a.lower()\n",
    "b=b[1:].replace(b[0],'$')\n",
    "a=a[0]+b\n",
    "a"
   ]
  },
  {
   "cell_type": "markdown",
   "metadata": {},
   "source": [
    "Q2. Write a Python program to get the single string from the two given\n",
    "strings, and separated by the space and swap the first two characters of\n",
    "each string?\n",
    "\n",
    "    Sample String : 'abc', 'xyz'.\n",
    "    Expected Result: 'xyc abz'"
   ]
  },
  {
   "cell_type": "code",
   "execution_count": 9,
   "metadata": {},
   "outputs": [
    {
     "name": "stdout",
     "output_type": "stream",
     "text": [
      "input the first string : vijay\n",
      "input the second string : dinne\n",
      "dijay vinne\n"
     ]
    }
   ],
   "source": [
    "x=input(\"input the first string : \")\n",
    "y=input(\"input the second string : \")\n",
    "print(y[0:2]+x[2:]+\" \"+x[0:2]+y[2:])"
   ]
  },
  {
   "cell_type": "markdown",
   "metadata": {},
   "source": [
    "Q3. Write the Python program to add 'ing' at the end of the given string\n",
    "(length of the string should be at least 3). If given string already ends\n",
    "with 'ing,' then add 'ly' instead. If string length of the given string is less\n",
    "than 3, leave it unchanged?\n",
    "\n",
    "\n",
    "    Sample string: ' abc '\n",
    "    Expected result: ' abcing '\n",
    "    Sample string: ' string '\n",
    "    Expected result: ' stringly '\n"
   ]
  },
  {
   "cell_type": "code",
   "execution_count": 20,
   "metadata": {},
   "outputs": [
    {
     "name": "stdout",
     "output_type": "stream",
     "text": [
      "Enter the total number of strings 2\n",
      "Enter the string : abc\n",
      "abcing\n",
      "Enter the string : string\n",
      "stringly\n"
     ]
    }
   ],
   "source": [
    "noofstrings=int(input(\"Enter the total number of strings \"))\n",
    "for n in range(noofstrings):\n",
    "    x=input(\"Enter the string : \")\n",
    "    if(len(x)>=3):\n",
    "        x=x.lower()\n",
    "        if(x[-3:]=='ing'):\n",
    "            x=x+'ly'\n",
    "        else:\n",
    "            x=x+'ing'\n",
    "    print(x)"
   ]
  },
  {
   "cell_type": "markdown",
   "metadata": {},
   "source": [
    "Q4. Write the Python program to find the first appearance of the\n",
    "substring 'not' and 'poor' from the given string, if 'not' follows the 'poor',\n",
    "replace the whole 'not'...' poor' substring with 'good'.Return the resulting\n",
    "string.\n",
    "\n",
    "    Sample string: 'The lyrics are not that poor!'\n",
    "    'The lyrics are poor!'\n",
    "    Expected Result: 'The lyrics are good!'\n",
    "    'The lyrics are poor!'"
   ]
  },
  {
   "cell_type": "code",
   "execution_count": 24,
   "metadata": {},
   "outputs": [
    {
     "name": "stdout",
     "output_type": "stream",
     "text": [
      "Enter the number of strings : 2\n",
      "Enter the string : The lyrics are not that poor!\n",
      "The lyrics are good!\n",
      "Enter the string : The lyrics are good!\n",
      "The lyrics are good!\n"
     ]
    }
   ],
   "source": [
    "noOfStringsQ4=int(input(\"Enter the number of strings : \"))\n",
    "q4set=set()\n",
    "for w in range(noOfStringsQ4):\n",
    "    q4=input(\"Enter the string : \")\n",
    "    q4notindex=q4.find(\"not\")\n",
    "    q4poorindex=q4.find(\"poor\")\n",
    "    if(q4notindex!=-1 and q4poorindex!=-1):\n",
    "        if(q4notindex>q4poorindex):\n",
    "            print(q4)\n",
    "        else:\n",
    "            print(q4[:q4notindex]+\"good\"+q4[q4poorindex+4:])\n",
    "    else:\n",
    "        print(q4)"
   ]
  },
  {
   "cell_type": "markdown",
   "metadata": {},
   "source": [
    "Q5. Write the Python program to remove the characters which have odd\n",
    "index values of a given string."
   ]
  },
  {
   "cell_type": "code",
   "execution_count": 27,
   "metadata": {},
   "outputs": [
    {
     "name": "stdout",
     "output_type": "stream",
     "text": [
      "aceg\n"
     ]
    }
   ],
   "source": [
    "stringq5=\"adcdefgh\"\n",
    "s=''\n",
    "for q5i in range(len(stringq5)):\n",
    "    if(q5i%2==0):\n",
    "        s=s+stringq5[q5i]\n",
    "q5i=s\n",
    "print(q5i)"
   ]
  },
  {
   "cell_type": "markdown",
   "metadata": {},
   "source": [
    "Q6. Write the python program to print the following floating numbers up\n",
    "to 2 decimal places?"
   ]
  },
  {
   "cell_type": "code",
   "execution_count": 25,
   "metadata": {},
   "outputs": [
    {
     "name": "stdout",
     "output_type": "stream",
     "text": [
      "the formatted number 123.57\n"
     ]
    }
   ],
   "source": [
    "q6=123.5663\n",
    "print(\"the formatted number \"+\"{:.2f}\".format(q6))"
   ]
  },
  {
   "cell_type": "markdown",
   "metadata": {},
   "source": [
    "Q7. Write the Python program to format a number with a percentage?"
   ]
  },
  {
   "cell_type": "code",
   "execution_count": 26,
   "metadata": {},
   "outputs": [
    {
     "name": "stdout",
     "output_type": "stream",
     "text": [
      "the formatted number 25.00%\n"
     ]
    }
   ],
   "source": [
    "q7=0.25\n",
    "print(\"the formatted number \"+\"{:.2%}\".format(q7))"
   ]
  },
  {
   "cell_type": "markdown",
   "metadata": {},
   "source": [
    "Q8. Write the Python program to count occurrences of a substring in a\n",
    "String?"
   ]
  },
  {
   "cell_type": "code",
   "execution_count": 28,
   "metadata": {},
   "outputs": [
    {
     "name": "stdout",
     "output_type": "stream",
     "text": [
      "1\n"
     ]
    }
   ],
   "source": [
    "stringq8=\"i learn python at iNeuron\"\n",
    "stringq8sub=\"python\"\n",
    "print(stringq8.count(stringq8sub))"
   ]
  },
  {
   "cell_type": "markdown",
   "metadata": {},
   "source": [
    "Q9. Write the Python program to count repeated characters in a string.\n",
    "\n",
    "    Sample string: ' thequickbrownjumpsoverthelazydog '\n",
    "    \n",
    "    Expected output:\n",
    "    o 3\n",
    "    e 3\n",
    "    u 2\n",
    "    h 2\n",
    "    r 2\n",
    "    t 2"
   ]
  },
  {
   "cell_type": "code",
   "execution_count": 19,
   "metadata": {},
   "outputs": [
    {
     "name": "stdout",
     "output_type": "stream",
     "text": [
      "e 3\n",
      "o 3\n",
      "t 2\n",
      "h 2\n",
      "u 2\n",
      "r 2\n"
     ]
    }
   ],
   "source": [
    "import collections\n",
    "str=\"thequickbrownjumpsoverthelazydog\"\n",
    "d=collections.defaultdict(int)\n",
    "for c in str:\n",
    "    d[c]+=1\n",
    "for x in sorted(d,key=d.get,reverse=True):\n",
    "    if(d[x]>1):\n",
    "        print('%s %d' % (x,d[x]))"
   ]
  },
  {
   "cell_type": "markdown",
   "metadata": {},
   "source": [
    "Q10. Write the Python program to print the square and cube symbol in\n",
    "the area of a rectangle and volume of a cylinder?\n",
    "\n",
    "    Sample outputThe area of the rectangle is 1256.66cm2\n",
    "    The volume of the cylinder is 1254.725cm3\n"
   ]
  },
  {
   "cell_type": "code",
   "execution_count": 18,
   "metadata": {},
   "outputs": [
    {
     "name": "stdout",
     "output_type": "stream",
     "text": [
      "the area of rectangle : 123.804345cm²\n",
      "the volume of cylinder : 456.9854354cm³\n"
     ]
    }
   ],
   "source": [
    "area=123.804345\n",
    "volume=456.9854354\n",
    "print(\"the area of rectangle : {}cm\\u00b2\".format(area))\n",
    "print(\"the volume of cylinder : {}cm\\u00b3\".format(volume))"
   ]
  },
  {
   "cell_type": "markdown",
   "metadata": {},
   "source": [
    "Q11. Write the Python program to check if a string contains all letters of\n",
    "the alphabet?"
   ]
  },
  {
   "cell_type": "code",
   "execution_count": 21,
   "metadata": {},
   "outputs": [
    {
     "name": "stdout",
     "output_type": "stream",
     "text": [
      "Enter the StringvcdsrAqwertyuiopasdfghjkZXCVBNM\n",
      "String does not contain all alphabets\n"
     ]
    }
   ],
   "source": [
    "alphabet = \"abcdefghijklmnopqrstuvwxyz\";\n",
    "checkAllLettersString = input(\"Enter the String\")\n",
    "checkAllLettersString=checkAllLettersString.lower()\n",
    "checkAll=True\n",
    "for char in alphabet:\n",
    "    if char not in checkAllLettersString:\n",
    "        checkAll=False\n",
    "if(checkAll):\n",
    "    print(\"String comtains all alphabets\")\n",
    "else:\n",
    "    print(\"String does not contain all alphabets\")\n",
    "        \n",
    "        "
   ]
  },
  {
   "cell_type": "markdown",
   "metadata": {},
   "source": [
    "Q12. Write the Python program to find the second most repeated word\n",
    "in a given string?"
   ]
  },
  {
   "cell_type": "code",
   "execution_count": 17,
   "metadata": {},
   "outputs": [
    {
     "name": "stdout",
     "output_type": "stream",
     "text": [
      "the 2\n",
      "qa 2\n"
     ]
    }
   ],
   "source": [
    "import collections\n",
    "q=\"is the is the is name vijay la la la ring qa qa\"\n",
    "l=q.split(\" \")\n",
    "d=collections.defaultdict(int)\n",
    "for word in l:\n",
    "    d[word]+=1\n",
    "counts=set(d.values())\n",
    "for n in sorted(d,key=d.get,reverse=True):\n",
    "    if d[n] == list(counts)[-2]:\n",
    "        print('%s %d' %(n,d[n]))"
   ]
  },
  {
   "cell_type": "markdown",
   "metadata": {},
   "source": [
    "Q13. Write the Python program to find the minimum window in the given\n",
    "string, which will contains all the characters of another given\n",
    "strings?\n",
    "\n",
    "    Example 1\n",
    "    Input : string1 = \" PRWSOERIUSFK \"\n",
    "    string2 = \" OSU \"\n",
    "    Output: Minimum window is \"OERIUS\""
   ]
  },
  {
   "cell_type": "code",
   "execution_count": 22,
   "metadata": {},
   "outputs": [
    {
     "name": "stdout",
     "output_type": "stream",
     "text": [
      "Miminum window is  soeriu\n"
     ]
    }
   ],
   "source": [
    "string1=\"prwsoeriusfk\"\n",
    "string2=\"osu\"\n",
    "zx=set()\n",
    "for char in string2:\n",
    "    findcharindex=string1.find(char)\n",
    "    if(findcharindex==-1):\n",
    "        break\n",
    "    else:\n",
    "      zx.add(findcharindex)\n",
    "print(\"Miminum window is \",string1[min(zx):max(zx)+1])"
   ]
  },
  {
   "cell_type": "markdown",
   "metadata": {},
   "source": [
    "Q14. Write the Python program to count number of substrings from a\n",
    "given string of lowercase alphabets with exactly k distinct (given)\n",
    "characters?\n",
    "\n",
    "    Input a string (lowercase alphabets): wolf\n",
    "    Input k: 4\n",
    "    Number of substrings with exactly 4 distinct characters: 1"
   ]
  },
  {
   "cell_type": "code",
   "execution_count": 15,
   "metadata": {},
   "outputs": [
    {
     "name": "stdout",
     "output_type": "stream",
     "text": [
      "Enter the string : vijay\n",
      "unique length : 2\n",
      "Total number of words with unique characters of length  2  is 4\n"
     ]
    }
   ],
   "source": [
    "import collections\n",
    "n=input(\"Enter the string : \")\n",
    "i=int(input(\"unique length : \"))\n",
    "lengthOfString=len(n)\n",
    "counttotal=0\n",
    "if(lengthOfString>=i):\n",
    "    for x in range(len(n)+1-i):\n",
    "        counttotal=counttotal+uniqueWord(n[x:x+i]) \n",
    "    print(\"Total number of words with unique characters of length\",i,\" is\",counttotal)\n",
    "else :\n",
    "    print(\"string length is smaller than the required unique length\")\n",
    "    \n",
    "def uniqueWord(str):\n",
    "    counts=0\n",
    "    map=collections.defaultdict(int)\n",
    "    for c in str:\n",
    "        map[c]+=1\n",
    "    count=list(set(map.values()))\n",
    "    if(count[0]==1 and len(count)==1):\n",
    "        counts=counts+1\n",
    "    return counts"
   ]
  },
  {
   "cell_type": "markdown",
   "metadata": {},
   "source": [
    "Q15. Write the Python program to count number of substrings with same\n",
    "first and last characters of the given string?\n",
    "\n",
    "    Input a string: abcd\n",
    "    4\n"
   ]
  },
  {
   "cell_type": "code",
   "execution_count": 16,
   "metadata": {},
   "outputs": [
    {
     "data": {
      "text/plain": [
       "4"
      ]
     },
     "execution_count": 16,
     "metadata": {},
     "output_type": "execute_result"
    }
   ],
   "source": [
    "newstring=\"is the is the is name vijay la la ring is\"\n",
    "newstring=newstring.lower()\n",
    "words=newstring.split(\" \")\n",
    "count=0\n",
    "for word in words:\n",
    "    if(word[0]==newstring[0] and word[-1]==newstring[-1]):\n",
    "        count=count+1\n",
    "count"
   ]
  },
  {
   "cell_type": "markdown",
   "metadata": {},
   "source": [
    "## Great Job!"
   ]
  }
 ],
 "metadata": {
  "kernelspec": {
   "display_name": "Python 3",
   "language": "python",
   "name": "python3"
  },
  "language_info": {
   "codemirror_mode": {
    "name": "ipython",
    "version": 3
   },
   "file_extension": ".py",
   "mimetype": "text/x-python",
   "name": "python",
   "nbconvert_exporter": "python",
   "pygments_lexer": "ipython3",
   "version": "3.7.4"
  }
 },
 "nbformat": 4,
 "nbformat_minor": 2
}
